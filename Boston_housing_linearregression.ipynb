{
  "nbformat": 4,
  "nbformat_minor": 0,
  "metadata": {
    "colab": {
      "provenance": [],
      "authorship_tag": "ABX9TyPE0mJHEkbyMGoeEPVdaIAt",
      "include_colab_link": true
    },
    "kernelspec": {
      "name": "python3",
      "display_name": "Python 3"
    },
    "language_info": {
      "name": "python"
    }
  },
  "cells": [
    {
      "cell_type": "markdown",
      "metadata": {
        "id": "view-in-github",
        "colab_type": "text"
      },
      "source": [
        "<a href=\"https://colab.research.google.com/github/himurali/30-days-of-react/blob/master/Boston_housing_linearregression.ipynb\" target=\"_parent\"><img src=\"https://colab.research.google.com/assets/colab-badge.svg\" alt=\"Open In Colab\"/></a>"
      ]
    },
    {
      "cell_type": "code",
      "execution_count": 3,
      "metadata": {
        "id": "wGUqSB2TRgSn"
      },
      "outputs": [],
      "source": [
        "import numpy as np\n",
        "import pandas as pd\n",
        "from pandas import DataFrame,Series\n",
        "import matplotlib\n",
        "import matplotlib.pyplot as plt\n",
        "%matplotlib inline\n",
        "from sklearn.linear_model import LinearRegression, Lasso, Ridge, ElasticNet, SGDRegressor\n",
        "from sklearn.preprocessing import StandardScaler\n",
        "from sklearn.model_selection import train_test_split\n",
        "import statsmodels.api as sm\n",
        "from scipy import stats\n",
        "import warnings\n",
        "warnings.filterwarnings('ignore')\n",
        "#from sklearn.model_selection import train_test_split"
      ]
    },
    {
      "cell_type": "code",
      "source": [
        "import pandas as pd\n",
        "import numpy as np\n",
        "\n",
        "data_url = \"http://lib.stat.cmu.edu/datasets/boston\"\n",
        "raw_df = pd.read_csv(data_url, sep=\"\\s+\", skiprows=22, header=None)\n",
        "data = np.hstack([raw_df.values[::2, :], raw_df.values[1::2, :2]])\n",
        "target = raw_df.values[1::2, 2]"
      ],
      "metadata": {
        "id": "M1zFRMmOSSrW"
      },
      "execution_count": 4,
      "outputs": []
    },
    {
      "cell_type": "code",
      "source": [
        "def pretty_print_linear(coefs, names = None, sort = False):\n",
        "    if names is None:\n",
        "        names = [\"X%s\" % x for x in range(len(coefs))]\n",
        "    lst = zip(coefs, names)\n",
        "    if sort:\n",
        "        lst = sorted(lst, key = lambda x:-np.abs(x[0]))\n",
        "    return \" + \".join(\"%s * %s\" % (round(coef, 3), name) for coef, name in lst)"
      ],
      "metadata": {
        "id": "z9rlQNyZSgU8"
      },
      "execution_count": 5,
      "outputs": []
    },
    {
      "cell_type": "code",
      "source": [
        "def load_data():\n",
        "    data_url = \"http://lib.stat.cmu.edu/datasets/boston\"\n",
        "    raw_df = pd.read_csv(data_url, sep=\"\\s+\", skiprows=22, header=None)\n",
        "    data = np.hstack([raw_df.values[::2, :], raw_df.values[1::2, :2]])\n",
        "    target = raw_df.values[1::2, 2]\n",
        "    names = [\"CRIM\", \"ZN\", \"INDUS\", \"CHAS\", \"NOX\", \"RM\", \"AGE\", \"DIS\", \"RAD\", \"TAX\", \"PTRATIO\", \"B\", \"LSTAT\"]\n",
        "\n",
        "    # Create X and Y directly from loaded data\n",
        "    X = data\n",
        "    Y = target\n",
        "\n",
        "    return X, Y, names\n"
      ],
      "metadata": {
        "id": "LBLWCf_5SkVs"
      },
      "execution_count": 7,
      "outputs": []
    },
    {
      "cell_type": "code",
      "source": [
        "def scale_data(X):\n",
        "    scaler = StandardScaler()\n",
        "    X = scaler.fit_transform(X)\n",
        "    return X"
      ],
      "metadata": {
        "id": "BDcbt48MT01d"
      },
      "execution_count": 8,
      "outputs": []
    },
    {
      "cell_type": "code",
      "source": [
        "def split_data(X,Y):\n",
        "    X_train, X_test, Y_train, Y_test = train_test_split(X, Y, test_size=0.33, random_state=42)\n",
        "    return X_train, X_test, Y_train, Y_test"
      ],
      "metadata": {
        "id": "xiQ9yEMVT4cP"
      },
      "execution_count": 16,
      "outputs": []
    },
    {
      "cell_type": "code",
      "source": [
        "def root_mean_square_error(y_pred,y_test):\n",
        "    rmse_train = np.sqrt(np.dot(abs(y_pred-y_test),abs(y_pred-y_test))/len(y_test))\n",
        "    return rmse_train"
      ],
      "metadata": {
        "id": "AhXxjqk6T4nF"
      },
      "execution_count": 17,
      "outputs": []
    },
    {
      "cell_type": "code",
      "source": [
        "def plot_real_vs_predicted(y_pred,y_test):\n",
        "    plt.plot(y_pred,y_test,'ro')\n",
        "    plt.plot([0,50],[0,50], 'g-')\n",
        "    plt.xlabel('predicted')\n",
        "    plt.ylabel('real')\n",
        "    plt.show()\n",
        "    return plt"
      ],
      "metadata": {
        "id": "WjJFApyvT-qW"
      },
      "execution_count": 9,
      "outputs": []
    },
    {
      "cell_type": "code",
      "source": [
        "def generate_regression_values(model, X, y):\n",
        "    params = np.append(model.intercept_, model.coef_)\n",
        "    predictions = model.predict(X)\n",
        "    newX = pd.DataFrame({\"Constant\": np.ones(len(X))}).join(pd.DataFrame(X))\n",
        "    MSE = (sum((y - predictions) ** 2)) / (len(newX) - len(newX.columns))\n",
        "\n",
        "    # Note if you don't want to use a DataFrame replace the two lines above with\n",
        "    # newX = np.append(np.ones((len(X),1)), X, axis=1)\n",
        "    # MSE = (sum((y-predictions)**2))/(len(newX)-len(newX[0]))\n",
        "\n",
        "    var_b = MSE * (np.linalg.inv(np.dot(newX.T, newX)).diagonal())\n",
        "    sd_b = np.sqrt(var_b)\n",
        "    ts_b = params / sd_b\n",
        "\n",
        "    p_values = [2 * (1 - stats.t.cdf(np.abs(i), (len(newX) - 1))) for i in ts_b]\n",
        "\n",
        "    sd_b = np.round(sd_b, 3)\n",
        "    ts_b = np.round(ts_b, 3)\n",
        "    p_values = np.round(p_values, 3)\n",
        "    params = np.round(params, 4)\n",
        "\n",
        "    myDF3 = pd.DataFrame()\n",
        "    myDF3[\"Coefficients\"], myDF3[\"Standard Errors\"], myDF3[\"t values\"], myDF3[\n",
        "        \"Probabilites\"\n",
        "    ] = [params, sd_b, ts_b, p_values]\n",
        "    print(myDF3)"
      ],
      "metadata": {
        "id": "6zRnUMLKUDUG"
      },
      "execution_count": 10,
      "outputs": []
    },
    {
      "cell_type": "code",
      "source": [
        "X,Y,names = load_data()\n"
      ],
      "metadata": {
        "id": "ZHsafnFJUID-"
      },
      "execution_count": 11,
      "outputs": []
    },
    {
      "cell_type": "code",
      "source": [
        "np.set_printoptions(precision=2, linewidth=100, suppress=True, edgeitems=2)\n"
      ],
      "metadata": {
        "id": "lQ3gz-QaUNr-"
      },
      "execution_count": 12,
      "outputs": []
    },
    {
      "cell_type": "code",
      "source": [
        "X[0:5]\n"
      ],
      "metadata": {
        "colab": {
          "base_uri": "https://localhost:8080/"
        },
        "id": "q1tE1vfIUNze",
        "outputId": "0a6b0c69-c77a-4e45-9078-81ca3655fa6b"
      },
      "execution_count": 13,
      "outputs": [
        {
          "output_type": "execute_result",
          "data": {
            "text/plain": [
              "array([[  0.01,  18.  ,   2.31,   0.  ,   0.54,   6.58,  65.2 ,   4.09,   1.  , 296.  ,  15.3 ,\n",
              "        396.9 ,   4.98],\n",
              "       [  0.03,   0.  ,   7.07,   0.  ,   0.47,   6.42,  78.9 ,   4.97,   2.  , 242.  ,  17.8 ,\n",
              "        396.9 ,   9.14],\n",
              "       [  0.03,   0.  ,   7.07,   0.  ,   0.47,   7.18,  61.1 ,   4.97,   2.  , 242.  ,  17.8 ,\n",
              "        392.83,   4.03],\n",
              "       [  0.03,   0.  ,   2.18,   0.  ,   0.46,   7.  ,  45.8 ,   6.06,   3.  , 222.  ,  18.7 ,\n",
              "        394.63,   2.94],\n",
              "       [  0.07,   0.  ,   2.18,   0.  ,   0.46,   7.15,  54.2 ,   6.06,   3.  , 222.  ,  18.7 ,\n",
              "        396.9 ,   5.33]])"
            ]
          },
          "metadata": {},
          "execution_count": 13
        }
      ]
    },
    {
      "cell_type": "code",
      "source": [
        "X = scale_data(X)\n"
      ],
      "metadata": {
        "id": "TqZ-fdIgUN6P"
      },
      "execution_count": 14,
      "outputs": []
    },
    {
      "cell_type": "code",
      "source": [
        "X_train, X_test, Y_train, Y_test = split_data(X,Y)\n"
      ],
      "metadata": {
        "id": "K7TU0jlyUXC-"
      },
      "execution_count": 18,
      "outputs": []
    },
    {
      "cell_type": "code",
      "source": [
        "linreg = LinearRegression()\n",
        "\n",
        "# Train the model using the training sets\n",
        "linreg.fit(X_train,Y_train)\n",
        "\n",
        "print (\"Linear model: \", pretty_print_linear(linreg.coef_, names, sort = True))\n",
        "\n",
        "# Predict the values using the model\n",
        "Y_lin_predict = linreg.predict(X_test)\n",
        "\n",
        "# Print the root mean square error\n",
        "print (\"Root Mean Square Error: {}\".format(root_mean_square_error(Y_lin_predict,Y_test)))\n",
        "plot_real_vs_predicted(Y_test,Y_lin_predict)"
      ],
      "metadata": {
        "colab": {
          "base_uri": "https://localhost:8080/",
          "height": 521
        },
        "id": "nx8ykDXiUgOu",
        "outputId": "6be90f68-63c3-4239-bd6a-d2a55264aea6"
      },
      "execution_count": 19,
      "outputs": [
        {
          "output_type": "stream",
          "name": "stdout",
          "text": [
            "Linear model:  -3.906 * LSTAT + -2.992 * DIS + 2.739 * RM + 2.043 * RAD + -2.009 * PTRATIO + -1.872 * NOX + -1.383 * TAX + -1.106 * CRIM + 1.073 * B + 0.881 * ZN + 0.822 * CHAS + 0.399 * INDUS + -0.361 * AGE\n",
            "Root Mean Square Error: 4.552364598463066\n"
          ]
        },
        {
          "output_type": "display_data",
          "data": {
            "text/plain": [
              "<Figure size 640x480 with 1 Axes>"
            ],
            "image/png": "[encoded data removed]"
          },
          "metadata": {}
        },
        {
          "output_type": "execute_result",
          "data": {
            "text/plain": [
              "<module 'matplotlib.pyplot' from '/usr/local/lib/python3.10/dist-packages/matplotlib/pyplot.py'>"
            ]
          },
          "metadata": {},
          "execution_count": 19
        }
      ]
    }
  ]
}